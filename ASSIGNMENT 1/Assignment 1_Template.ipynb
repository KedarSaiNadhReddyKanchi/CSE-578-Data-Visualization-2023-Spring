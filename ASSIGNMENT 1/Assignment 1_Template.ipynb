{
 "cells": [
  {
   "cell_type": "markdown",
   "metadata": {},
   "source": [
    "# Assignment 1: Dino Fun World\n",
    "\n",
    "### Assignment Description\n",
    "\n",
    "You, in your role as a data explorer and visualizer, have been asked by the administrators of a small amusement park in your hometown to answer a few questions about their park operations. The dataset that they provided for you to perform the requested analysis includes the movement and communication data captured from the park attendees' apps during one weekend (Friday, Saturday, and Sunday).\n",
    "\n",
    "The administrators would like you to answer four relatively simple questions about the park activities on the day in question. These questions all deal with park operations and can be answered using the data provided.\n",
    "* **Question 1:** What is the most popular attraction to visit in the park?\n",
    "\n",
    "\n",
    "* **Question 2:** What ride (note that not all attractions are rides) has the longest average visit time?\n",
    "\n",
    "\n",
    "* **Question 3:** Which Fast Food offering has the fewest visitors?\n",
    "\n",
    "\n",
    "* **Question 4:** Compute the Skyline of number of visits and visit time for the park's ride, and report the rides that appear in the Skyline. (Note: Your answer should be three points, which can be given in any order.)\n",
    "\n",
    "\n",
    "### Directions\n",
    "\n",
    "The database provided by the park administration is formatted to be readable by any SQL database library. The course staff recommends the sqlite3 library. The database contains three tables, named 'checkin', 'attractions', and 'sequences'. The database file is named 'dinofunworld.db' .\n",
    "\n",
    "The information contained in each of these tables is listed below:\n",
    "\n",
    "`checkin`:\n",
    "    - The check-in data for all visitors for the day in the park. The data includes two types of check-ins: inferred and actual checkins.\n",
    "    - Fields: visitorID, timestamp, attraction, duration, type\n",
    "\n",
    "`attraction`:\n",
    "    - The attractions in the park by their corresponding AttractionID, Name, Region, Category, and type. Regions are from the VAST Challenge map such as Coaster Alley, Tundra Land, etc. Categories include Thrill rides, Kiddie Rides, etc. Type is broken into Outdoor Coaster, Other Ride, Carousel, etc.\n",
    "    - Fields: AttractionID, Name, Region, Category, type\n",
    "    \n",
    "`sequences`:\n",
    "    - The check-in sequences of visitors. These sequences list the position of each visitor to the park every five minutes. If the visitor has not entered the part yet, the sequence has a value of 0 for that time interval. If the visitor is in the park, the sequence lists the attraction they have most recently checked in to until they check in to a new one or leave the park.\n",
    "    - Fields: visitorID, sequence\n",
    "    \n",
    "Using the provided data, answer the four questions that the administrators have asked.\n",
    "\n",
    "### Submission Directions for Assignment Deliverables\n",
    "\n",
    "This assignment will be auto-graded. We recommend that you submit this assignment. In order for your answers to be correctly registered in the system, you must place the code for your answers in the cell indicated for each question. In addition, you should submit the assignment with the output of the code in the cell's display area. The display area should contain only your answer to the question with no extraneous information, or else the answer may not be picked up correctly. \n",
    "\n",
    "Each cell that is going to be graded has a set of comment lines at the beginning of the cell. These lines are extremely important and must not be modified or removed. \n",
    "\n",
    "Please execute each cell in Jupyter Notebook before submitting.\n",
    "\n",
    "\n"
   ]
  },
  {
   "cell_type": "markdown",
   "metadata": {},
   "source": [
    "### Question 1: \n",
    "What is the most popular attraction to visit in the park?\n",
    "\n",
    "**Note:** Your output should be the name of the attraction."
   ]
  },
  {
   "cell_type": "code",
   "execution_count": 8,
   "metadata": {
    "scrolled": false
   },
   "outputs": [
    {
     "name": "stdout",
     "output_type": "stream",
     "text": [
      "Atmosfear\n"
     ]
    }
   ],
   "source": [
    "# your code here for Q1\n",
    "\n",
    "# Part 1: Import Library\n",
    "# This single line of code includes the libraries needed for the rest of the example. \n",
    "# In this simple example, you will need only include the sqlite3 library. \n",
    "# Future examples and assignments will require additional libraries.\n",
    "import sqlite3\n",
    "\n",
    "from datetime import timedelta\n",
    "import operator\n",
    "\n",
    "# Part 2: Establish Database Name\n",
    "# This single line of code establishes the name of the database that contains the relevant data for the example. \n",
    "# While this example uses a database containing cereal information here, your assignment will use a different database.\n",
    "database_filename = 'dinofunworld.db'\n",
    "\n",
    "# Part 3: Establish Connection\n",
    "# These two lines of code establish the connection with:\n",
    "#       1. the database that was named in Part 2 (line 1)\n",
    "#       2. the create a cursor objecT - The cursor object is necessary to execute queries on the database.\n",
    "connection = sqlite3. connect(database_filename) \n",
    "database_cursor = connection.cursor()\n",
    "\n",
    "# Part 4: Simple Query\n",
    "# This line of code performs a simple query on the database to return the most popular attraction to visit in the park\n",
    "# Note that while this line executes the query, it does not retrieve the results.\n",
    "database_cursor.execute(\"SELECT name FROM checkin, attraction WHERE checkin.attraction = attraction.attractionid GROUP BY name ORDER BY count(*) DESC limit 1\")\n",
    "\n",
    "# The print statement then displays the results.\n",
    "print(database_cursor.fetchone()[0])"
   ]
  },
  {
   "cell_type": "markdown",
   "metadata": {},
   "source": [
    "### Question 2: \n",
    "\n",
    "What ride (note that not all attractions are rides) has the  longest average visit time?\n",
    "\n",
    "**Note:** Your output should be the name of the ride.\n"
   ]
  },
  {
   "cell_type": "code",
   "execution_count": 10,
   "metadata": {},
   "outputs": [
    {
     "name": "stdout",
     "output_type": "stream",
     "text": [
      "Flight of the Swingodon\n"
     ]
    }
   ],
   "source": [
    "# your code here for Q2\n",
    "database_cursor.execute(\"SELECT checkin.attraction, attraction.name, avg(checkin.duration) as 'Average Duration', attraction.category FROM checkin INNER JOIN attraction ON checkin.attraction = attraction.attractionid WHERE attraction.category LIKE '%rides%' GROUP by attraction ORDER BY 'Average Duration' DESC LIMIT 1;\")\n",
    "longestAverageVisitTime = database_cursor.fetchone()[1]\n",
    "print(longestAverageVisitTime)"
   ]
  },
  {
   "cell_type": "markdown",
   "metadata": {},
   "source": [
    "### Question 3:\n",
    "\n",
    "Which Fast Food offering in the park has the fewest visitors?\n",
    "\n",
    "**Note:** Your output should be the name of the fast food offering."
   ]
  },
  {
   "cell_type": "code",
   "execution_count": 11,
   "metadata": {},
   "outputs": [
    {
     "name": "stdout",
     "output_type": "stream",
     "text": [
      "Theresaur Food Stop\n"
     ]
    }
   ],
   "source": [
    "# your code here for Q3\n",
    "database_cursor.execute(\"SELECT attraction.attractionid, COUNT(DISTINCT checkin.visitorid) AS 'uniqueNumberOfVisitors', attraction.Name, attraction.type FROM checkin INNER JOIN attraction ON checkin.attraction = attraction.attractionid where attraction.type = 'Fast Food' GROUP BY attraction ORDER BY 'uniqueNumberOfVisitors' ASC LIMIT 1;\")\n",
    "fastFoodCenter_HavingTheLeastAmountOfVisitors = database_cursor.fetchall()[0][2]\n",
    "print(fastFoodCenter_HavingTheLeastAmountOfVisitors)"
   ]
  },
  {
   "cell_type": "markdown",
   "metadata": {},
   "source": [
    "### Question 4:\n",
    "\n",
    "Compute the Skyline of number of visits and visit time for the park's ride and report the rides that appear in the Skyline. \n",
    "\n",
    "**Note:** Remember that in this case, higher visits is better and lower visit times are better. Your output should be formatted as a list of names of the rides in the Skyline. Your output should be three points, which can be given in any order(example output : ['Ride 1','Ride 2','Ride 3'] )\n"
   ]
  },
  {
   "cell_type": "code",
   "execution_count": 15,
   "metadata": {},
   "outputs": [
    {
     "name": "stdout",
     "output_type": "stream",
     "text": [
      "['Atmosfear', 'Wrightiraptor Mountain', 'Dykesadactyl Thrill']\n"
     ]
    }
   ],
   "source": [
    "# your code here for Q4\n",
    "import math\n",
    "skylineList = []\n",
    "leastVisitTime = math.inf\n",
    "attraction_name2 = \"\"\n",
    "\n",
    "database_cursor.execute (\"SELECT attraction, COUNT(attraction) AS 'Frequency' FROM checkin GROUP BY attraction ORDER BY COUNT(*) DESC LIMIT 1;\")\n",
    "attraction_id = database_cursor.fetchall()[0][0]\n",
    "database_cursor.execute(\"SELECT Name FROM attraction WHERE attractionid = \"+str(attraction_id)+\";\")\n",
    "attraction_name = database_cursor.fetchall()[0][0]\n",
    "skylineList.append(attraction_name)\n",
    "\n",
    "database_cursor.execute(\"SELECT checkin.attraction, attraction.name, avg(checkin.duration) as 'Average Visit Time', attraction.category FROM checkin INNER JOIN attraction ON checkin.attraction = attraction.attractionid WHERE attraction.category LIKE '%rides%' GROUP by attraction ORDER BY 'Average Visit Time' ASC LIMIT 1;\")\n",
    "attraction_name1 = database_cursor.fetchall()[0][1]\n",
    "skylineList.append(attraction_name1)\n",
    "\n",
    "database_cursor.execute(\"SELECT attractionid, name FROM attraction where category LIKE '%ride%'\")\n",
    "attRides = database_cursor.fetchall()\n",
    "\n",
    "for attractionId, attractionName in attRides:\n",
    "    database_cursor.execute(\"SELECT duration FROM checkin WHERE attraction = \"+str(attractionId))\n",
    "    attractionDuration = database_cursor.fetchall()\n",
    "    timeinSec = 0\n",
    "    \n",
    "    for i in range(len(attractionDuration)):\n",
    "        try:\n",
    "            hrs, mins, sec = attractionDuration[i][0].split(\":\")\n",
    "            timeinSec = timeinSec + timedelta(int(hrs), int(mins), int(sec)).total_seconds()\n",
    "        \n",
    "        except:\n",
    "            continue\n",
    "        \n",
    "    if (timeinSec < leastVisitTime):\n",
    "        leastVisitTime = timeinSec\n",
    "        attraction_name2 = attractionName\n",
    "        \n",
    "skylineList.append(attraction_name2)\n",
    "\n",
    "print(skylineList)"
   ]
  }
 ],
 "metadata": {
  "kernelspec": {
   "display_name": "Python 3",
   "language": "python",
   "name": "python3"
  },
  "language_info": {
   "codemirror_mode": {
    "name": "ipython",
    "version": 3
   },
   "file_extension": ".py",
   "mimetype": "text/x-python",
   "name": "python",
   "nbconvert_exporter": "python",
   "pygments_lexer": "ipython3",
   "version": "3.8.5"
  }
 },
 "nbformat": 4,
 "nbformat_minor": 2
}
