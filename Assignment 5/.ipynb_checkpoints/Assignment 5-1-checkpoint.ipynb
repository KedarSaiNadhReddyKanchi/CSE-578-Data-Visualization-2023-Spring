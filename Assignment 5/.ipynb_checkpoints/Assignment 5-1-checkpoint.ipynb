{
 "cells": [
  {
   "cell_type": "markdown",
   "metadata": {},
   "source": [
    "# Assignment 5: Geographic Data Analysis\n",
    "\n",
    "### Assignment Description\n",
    "\n",
    "In this assignment, you will be using a database of geographic data provided for you in the PySal library to create two plots: a choropleth map and a proportional symbol map. \n",
    "\n",
    "In addition to these two plots, you will compute the value of Moran's I for this data.\n",
    "\n",
    "**Hint:** Use “%matplotlib inline” to display the graph on the Jupyter Notebook(To allow the grader to identify the PartID, add the cell magic after the Graded Cell and PartID comments.).\n",
    "\n",
    "### Directions\n",
    "\n",
    "The data for this assignment includes the United States' lower 48 states. In addition to the state-by-state data, the dataset contains shape files for each state that you can use to create the choropleth and proportional symbol maps.\n",
    "\n",
    "Using the data provided, perform the required analyses and create the requested maps.\n",
    "\n",
    "### Submission Directions for Assignment Deliverables\n",
    "\n",
    "This assignment will be auto-graded. We recommend that you use Jupyter Notebook in your browser to complete and submit this assignment. In order for your answers to be correctly registered in the system, you must place the code for your answers in the cell indicated for each question. In addition, you should submit the assignment in the cell's display area. The display area should contain only your answer with no extraneous information, or else the answer may not be picked up correctly.\n",
    "\n",
    "Each cell that is going to be graded has a set of comment lines at the beginning of the cell. These lines are extremely important and must not be modified or removed. (Graded Cell and PartID comments must be in the same line for proper execution of code.)\n",
    "\n",
    "Please execute each cell in Jupyter Notebook before submitting.\n",
    "\n",
    "**NOTE:**  For each question, be sure to add your code in the exact cell that has the comment ```\"# Graded Cell, PartID:______\"```. If you add extra cells or split your code up into multiple cells, ensure you are adding your output print( ) statement and the chart in the cell containing the comment with regard to each question.\n",
    "\n",
    "\n",
    "**NOTE:**  If you lose the partId that is mentioned in the first line of each cell with regard to each question, use the syntax described below to add it.\n",
    "* Question 1: # Graded Cell, PartID : CkcsR \n",
    "* Question 2: # Graded Cell, PartID : FqNRm\n",
    "* Question 3: # Graded Cell, PartID : CtQYv"
   ]
  },
  {
   "cell_type": "markdown",
   "metadata": {},
   "source": [
    "### Question 1:  \n",
    "Using the PySal Data, create a choropleth path of the United States that depicts the per capita income of each US state in 2009.\n",
    "\n",
    "You only need to draw plot for the main land states (except Alaska and Hawaii). You need to show clear illustration of latitude and longitude in the plot.\n",
    "\n",
    "**Note:** The PySal and GeoPandas libraries both contain utility functions that may make this task easier."
   ]
  },
  {
   "cell_type": "code",
   "execution_count": null,
   "metadata": {},
   "outputs": [],
   "source": [
    "# Graded Cell, PartID: CkcsR\n",
    "\n",
    "import pysal\n",
    "import geopandas as gpd\n",
    "import pandas as pd\n",
    "import numpy as np\n",
    "import matplotlib.pyplot as plt\n",
    "%matplotlib inline\n",
    "\n",
    "# your code here\n",
    "import os\n",
    "os.environ['USE_PYGEOS'] = '0'\n",
    "import pysal.lib as pysl\n",
    "from pysal.explore import esda\n",
    "from pysal.lib import weights,examples\n",
    "\n",
    "us_income = pd.read_csv(pysal.lib.examples.get_path('usjoin.csv'))\n",
    "us_income_shape = gpd.read_file(pysl.examples.get_path('us48.shp'))\n",
    "us_income_shape['per-capita-income-2009'] = np.array(us_income[\"2009\"])\n",
    "ax = us_income_shape.plot(column=\"per-capita-income-2009\" , legend =True)\n",
    "ax.set_title(\"Per Capita Income in 2009\")\n",
    "plt.rcParams[\"figure.figsize\"] = (40,8)\n",
    "plt.show()\n"
   ]
  },
  {
   "cell_type": "markdown",
   "metadata": {},
   "source": [
    "### Question 2:\n",
    "Again using the PySal Data, create a proportional symbol map showing a dot at the centroid of each state that is scaled to the per capita income of each US state in 2009.\n",
    "\n",
    "You only need to draw plot for the main land states (except Alaska and Hawaii). You need to show clear illustration of latitude and longitude in the plot.\n",
    "\n",
    "**Notes:** The demonstration notebook for this unit contains code that performs a similar task and may be a useful reference for your assignment.\n"
   ]
  },
  {
   "cell_type": "code",
   "execution_count": 2,
   "metadata": {},
   "outputs": [],
   "source": [
    "# Graded Cell, PartID: FqNRm\n",
    "# your code here"
   ]
  },
  {
   "cell_type": "markdown",
   "metadata": {},
   "source": [
    "### Question 3:\n",
    "Using the same data, compute the value of Moran's I for the per capita income of each US state in 2009 using Rook Continuity. Report the value of I rounded to 4 decimal places (i.e. x.XXXX)\n",
    "\n",
    "You only need to print a single value in this question.\n",
    "\n",
    "**Notes:** Again, the PySal and GeoPandas libraries may contain useful utility functions."
   ]
  },
  {
   "cell_type": "code",
   "execution_count": 1,
   "metadata": {},
   "outputs": [],
   "source": [
    "# Graded Cell, PartID: CtQYv\n",
    "# your code here"
   ]
  },
  {
   "cell_type": "code",
   "execution_count": null,
   "metadata": {},
   "outputs": [],
   "source": []
  }
 ],
 "metadata": {
  "kernelspec": {
   "display_name": "Python 3",
   "language": "python",
   "name": "python3"
  },
  "language_info": {
   "codemirror_mode": {
    "name": "ipython",
    "version": 3
   },
   "file_extension": ".py",
   "mimetype": "text/x-python",
   "name": "python",
   "nbconvert_exporter": "python",
   "pygments_lexer": "ipython3",
   "version": "3.8.5"
  }
 },
 "nbformat": 4,
 "nbformat_minor": 1
}
